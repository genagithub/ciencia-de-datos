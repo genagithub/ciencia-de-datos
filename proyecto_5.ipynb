{
 "cells": [
  {
   "cell_type": "code",
   "execution_count": null,
   "metadata": {},
   "outputs": [],
   "source": [
    "import pandas as pd\n",
    "import numpy as np\n",
    "from scipy.stats import zscore\n",
    "from sklearn import datasets\n",
    "from sklearn.model_selection import train_test_split\n",
    "from sklearn.model_selection import RandomizedSearchCV\n",
    "from sklearn.cluster import KMeans\n",
    "from xgboost import XGBRegressor\n",
    "import matplotlib.pyplot as plt\n",
    "import plotly.express as px\n",
    "import dash\n",
    "import dash_core_components as dcc\n",
    "import dash_html_components as html\n",
    "from dash.dependencies import Input, Output\n",
    "\n",
    "# armamento del Data Frame proveniente de scikit-learn\n",
    "\n",
    "data = datasets.fetch_california_housing()\n",
    "\n",
    "df = pd.DataFrame(data[\"data\"],columns=data[\"feature_names\"])\n",
    "df[\"MedHouseVal\"] = data[\"target\"]\n",
    "df[\"MedHouseVal\"] = df[\"MedHouseVal\"] * 100000\n",
    "\n",
    "df_model = df.copy() # generando una copia, asi no afectamos al Data Frame original\n",
    "\n",
    "# removiendo los valores atípicos para la optimización del modelo\n",
    "\n",
    "def remove_outliers(df,columns):\n",
    "    for c in columns:\n",
    "        df[c] = df[c].mask(zscore(df[c]).abs() > 3, np.nan)\n",
    "    \n",
    "    return df\n",
    "\n",
    "df_model = remove_outliers(df_model,df.columns)\n",
    "\n",
    "df_model.dropna(inplace=True)\n",
    "\n",
    "df_model "
   ]
  },
  {
   "cell_type": "code",
   "execution_count": null,
   "metadata": {},
   "outputs": [],
   "source": [
    "x_train, x_test, y_train, y_test = train_test_split(df_model[data[\"feature_names\"]],\n",
    "                                                    df_model[\"MedHouseVal\"],\n",
    "                                                    test_size=0.25)\n",
    "\n",
    "# ajuste de hiperparámetros utilizando Random Search \n",
    "\n",
    "xgbr_test = XGBRegressor()           \n",
    "\n",
    "turned_parameters = {\n",
    "    \"n_estimators\":[100,200,300],\n",
    "    \"max_depth\":[3,4,5],\n",
    "    \"learning_rate\":[0.3,0.4,0.5],\n",
    "    \"min_child_weight\":[1,2,3]\n",
    "}\n",
    "\n",
    "grid_search = RandomizedSearchCV(xgbr_test,turned_parameters,cv=5)\n",
    "grid_search.fit(x_train,y_train)\n",
    "\n",
    "# asignandole al modelo los parámetros que obtuvieron mejores resultados\n",
    "\n",
    "xgbr = XGBRegressor(n_estimators = grid_search.best_params_[\"n_estimators\"],\n",
    "                    max_depth = grid_search.best_params_[\"max_depth\"],\n",
    "                    learning_rate = grid_search.best_params_[\"learning_rate\"],\n",
    "                    min_child_weight = grid_search.best_params_[\"min_child_weight\"])    \n",
    "\n",
    "\n",
    "model = xgbr.fit(x_train,y_train)\n",
    "\n",
    "# validando la eficiencia del modelo con los datos de prueba\n",
    "\n",
    "print(f\"\\nCoeficiente de determinación: {model.score(x_test, y_test)}\")"
   ]
  },
  {
   "cell_type": "markdown",
   "metadata": {},
   "source": [
    "### Características en las viviendas"
   ]
  },
  {
   "cell_type": "code",
   "execution_count": null,
   "metadata": {},
   "outputs": [],
   "source": [
    "app = dash.Dash(__name__)\n",
    "\n",
    "app.layout = html.Div(id=\"body\",className=\"e5_body\",children=[\n",
    "    html.H1(\"Viviendas en California \",id=\"title\",className=\"e5_title\"),\n",
    "        html.Div(id=\"div\",className=\"e5_div\",children=[\n",
    "            dcc.Dropdown(id=\"dropdown\",className=\"e5_dropdown\",\n",
    "                        options = [\n",
    "                            {\"label\":\"Ingreso medio\",\"value\":\"MedInc\"},\n",
    "                            {\"label\":\"Edad media\",\"value\":\"HouseAge\"},\n",
    "                            {\"label\":\"Promedio de habitaciones\",\"value\":\"AveRooms\"},\n",
    "                            {\"label\":\"Promedio de dormitorios\",\"value\":\"AveBedrms\"},\n",
    "                            {\"label\":\"Población\",\"value\":\"Population\"},\n",
    "                            {\"label\":\"Promedio de ocupación\",\"value\":\"AveOccuption\"}\n",
    "                        ],\n",
    "                        value=\"MedInc\",\n",
    "                        multi=False,\n",
    "                        clearable=False)]),\n",
    "            dcc.Graph(id=\"graph\",className=\"e5_graph\",figure={})\n",
    "])\n",
    "\n",
    "@app.callback(\n",
    "    Output(component_id=\"graph\",component_property=\"figure\"),\n",
    "    [Input(component_id=\"dropdown\",component_property=\"value\")]\n",
    ")\n",
    "\n",
    "def update_graph(slct_var):\n",
    "    \n",
    "    scatter_map = px.scatter(df,x=\"Longitude\",y=\"Latitude\",color=slct_var)\n",
    "    \n",
    "    return scatter_map\n",
    "    \n",
    "if __name__ == \"__main__\":\n",
    "    app.run_server(debug=False)"
   ]
  },
  {
   "cell_type": "markdown",
   "metadata": {},
   "source": [
    "### Método del codo"
   ]
  },
  {
   "cell_type": "code",
   "execution_count": null,
   "metadata": {},
   "outputs": [],
   "source": [
    "clusters = []\n",
    "inertias = []\n",
    "\n",
    "for c in range(3,12):\n",
    "    kmeans = KMeans(n_clusters=c).fit(df[\"MedHouseVal\"].values.reshape((-1,1)))\n",
    "    clusters.append(c)\n",
    "    inertias.append(kmeans.inertia_)\n",
    "    \n",
    "plt.plot(clusters,inertias,marker=\"o\")\n",
    "plt.grid(\"on\")\n",
    "plt.show()"
   ]
  },
  {
   "cell_type": "markdown",
   "metadata": {},
   "source": [
    "### Clustering"
   ]
  },
  {
   "cell_type": "code",
   "execution_count": null,
   "metadata": {},
   "outputs": [],
   "source": [
    "kmeans = KMeans(n_clusters=5).fit(df[\"MedHouseVal\"].values.reshape((-1,1)))\n",
    "\n",
    "clusters = kmeans.labels_\n",
    "\n",
    "df[\"clusters\"] = clusters\n",
    "df[\"index\"] = df.index\n",
    "\n",
    "range_values = np.array([])\n",
    "\n",
    "for c in df[\"clusters\"].sort_values().unique():\n",
    "    cluster = df.loc[df[\"clusters\"] == c,[\"clusters\",\"MedHouseVal\"]]\n",
    "    max_value = str(cluster[\"MedHouseVal\"].max())\n",
    "    min_value = str(cluster[\"MedHouseVal\"].min())\n",
    "    range_values = np.append(range_values,min_value)\n",
    "    range_values = np.append(range_values,max_value)\n",
    "    \n",
    "range_values = range_values.reshape((-1,2))\n",
    "    \n",
    "df[\"clusters\"] = df[\"clusters\"].replace(\n",
    "    {\n",
    "        0:f\"0 ({range_values[0,0][:8]}$-{range_values[0,1][:8]}$)\",\n",
    "        1:f\"1 ({range_values[1,0][:8]}$-{range_values[1,1][:8]}$)\",\n",
    "        2:f\"2 ({range_values[2,0][:8]}$-{range_values[2,1][:8]}$)\",\n",
    "        3:f\"3 ({range_values[3,0][:8]}$-{range_values[3,1][:8]}$)\",\n",
    "        4:f\"4 ({range_values[4,0][:8]}$-{range_values[4,1][:8]}$)\"\n",
    "    })\n",
    "\n",
    "\n",
    "fig = px.scatter(df,x=\"index\",y=\"MedHouseVal\",color=\"clusters\")\n",
    "fig.update_layout(xaxis_title=\"Houses\",yaxis_title=\"Values\",title=\"Range of Houses'values\")\n",
    "fig "
   ]
  },
  {
   "cell_type": "markdown",
   "metadata": {},
   "source": [
    "#### Con este método generamos grupos que clasifiquen rangos de precios en las casas"
   ]
  }
 ],
 "metadata": {
  "kernelspec": {
   "display_name": "Python 3",
   "language": "python",
   "name": "python3"
  },
  "language_info": {
   "codemirror_mode": {
    "name": "ipython",
    "version": 3
   },
   "file_extension": ".py",
   "mimetype": "text/x-python",
   "name": "python",
   "nbconvert_exporter": "python",
   "pygments_lexer": "ipython3",
   "version": "3.12.2"
  }
 },
 "nbformat": 4,
 "nbformat_minor": 2
}
