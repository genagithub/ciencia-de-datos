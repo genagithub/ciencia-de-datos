{
 "cells": [
  {
   "cell_type": "markdown",
   "metadata": {},
   "source": [
    "## Series de tiempo\n"
   ]
  },
  {
   "cell_type": "code",
   "execution_count": null,
   "metadata": {},
   "outputs": [],
   "source": [
    "import pandas as pd\n",
    "import numpy as np\n",
    "from scipy.stats import pearsonr\n",
    "import plotly.graph_objects as go\n",
    "import plotly.express as px\n",
    "import dash\n",
    "import dash_core_components as dcc\n",
    "import dash_html_components as html\n",
    "from dash.dependencies import Output, Input\n",
    "from statsmodels.tsa.holtwinters import ExponentialSmoothing\n",
    "\n",
    "df = pd.read_csv(\"archivos_csv/bitcoin_usd.csv\")\n",
    "df.rename(columns={\"Unnamed: 0\":\"date\"},inplace=True)\n",
    "\n",
    "df"
   ]
  },
  {
   "cell_type": "markdown",
   "metadata": {},
   "source": [
    "### Análisis de serie temporal y forecasting"
   ]
  },
  {
   "cell_type": "code",
   "execution_count": 5,
   "metadata": {},
   "outputs": [
    {
     "data": {
      "text/html": [
       "\n",
       "        <iframe\n",
       "            width=\"100%\"\n",
       "            height=\"650\"\n",
       "            src=\"http://127.0.0.1:8050/\"\n",
       "            frameborder=\"0\"\n",
       "            allowfullscreen\n",
       "            \n",
       "        ></iframe>\n",
       "        "
      ],
      "text/plain": [
       "<IPython.lib.display.IFrame at 0x195f64b8830>"
      ]
     },
     "metadata": {},
     "output_type": "display_data"
    },
    {
     "name": "stderr",
     "output_type": "stream",
     "text": [
      "c:\\Users\\genar\\AppData\\Local\\Programs\\Python\\Python312\\Lib\\site-packages\\statsmodels\\tsa\\holtwinters\\model.py:918: ConvergenceWarning:\n",
      "\n",
      "Optimization failed to converge. Check mle_retvals.\n",
      "\n"
     ]
    }
   ],
   "source": [
    "app = dash.Dash(__name__)\n",
    "\n",
    "app.layout =  html.Div(id=\"body\",className=\"e7_body\",children=[\n",
    "    html.H1(\"Análisis de tendencia y estacionalidad\",id=\"title\",style={\"color\":\"white\",\"font-family\":\"sans-serif\"}),\n",
    "    dcc.Dropdown(id=\"dropdown\",style={\"width\":\"175px\",\"height\":\"25px\",\"margin\":\"5px 0 25px 0\"},\n",
    "                        options=[\n",
    "                            {\"label\":\"Vólumen de trading\",\"value\":\"volume\"},\n",
    "                            {\"label\":\"Precio de apertura\",\"value\":\"open_USD\"},\n",
    "                            {\"label\":\"Precio de cierre\",\"value\":\"close_USD\"},\n",
    "                            {\"label\":\"Precio más bajo\",\"value\":\"low_USD\"},\n",
    "                            {\"label\":\"Precio más alto\",\"value\":\"high_USD\"},\n",
    "\n",
    "                        ],\n",
    "                        value=\"volume\",\n",
    "                        multi=False,\n",
    "                        clearable=False),\n",
    "    html.Div(id=\"dashboard\",className=\"e7_dashboard\",children=[\n",
    "        dcc.Graph(id=\"trend\",className=\"e7_graph\",figure={}),\n",
    "        dcc.Graph(id=\"correlogram\",className=\"e7_graph\",figure={})\n",
    "    ]),\n",
    "    html.H1(\"Forecasting\",id=\"title_2\",style={\"text-align\":\"initial\",\"color\":\"white\",\"font-family\":\"sans-serif\",\"margin\":\"15px 0\"}),\n",
    "    dcc.Graph(id=\"forecasting\",figure={},style={\"width\":\"100%\",\"height\":\"500px\",\"background-color\":\"white\",\"margin\":\"25px 0\"})\n",
    "])\n",
    "\n",
    "@app.callback(\n",
    "    [Output(component_id=\"trend\",component_property=\"figure\"),\n",
    "    Output(component_id=\"correlogram\",component_property=\"figure\"),\n",
    "    Output(component_id=\"forecasting\",component_property=\"figure\")],\n",
    "    [Input(component_id=\"dropdown\",component_property=\"value\")]\n",
    ")\n",
    "\n",
    "def update_graph(slct_var):\n",
    "    \n",
    "    levels = []\n",
    "    period = list(range(0,df.shape[0]-5,5))\n",
    "\n",
    "    for o in period:\n",
    "        level = (df[slct_var][o] + df[slct_var][o+5]) / 2\n",
    "        levels.append(level)\n",
    "\n",
    "    df_period = df.loc[period,\"date\"]\n",
    "\n",
    "    lineplot = go.Figure()\n",
    "    lineplot.add_trace(go.Scatter(x=df[\"date\"],y=df[slct_var], name=\"Serie\", mode=\"lines\"))\n",
    "    lineplot.add_trace(go.Scatter(x=df_period,y=levels, name=\"Tendencia\", line=dict(color='red', dash='dash')))\n",
    "    lineplot.update_layout(title_text=\"Tendencia\")\n",
    "    lineplot.update_yaxes(title_text=slct_var)\n",
    "    \n",
    "    autocorr, _ = pearsonr(df[slct_var],df[slct_var])    \n",
    "    autocorrelations = [autocorr]\n",
    "\n",
    "    delay = -1\n",
    "    recent = 1\n",
    "    for r in list(range(0,df.shape[0]-2)):\n",
    "        autocorr, _ = pearsonr(df[slct_var][recent:],df[slct_var][:delay])\n",
    "        autocorrelations.append(autocorr)\n",
    "        delay -= 1\n",
    "        recent += 1\n",
    "    \n",
    "    delays = list(range(0,df.shape[0]-1))\n",
    "    threshold = np.zeros(len(autocorrelations))\n",
    "\n",
    "    correlogram = go.Figure()\n",
    "    correlogram.add_trace(go.Scatter(x=delays,y=threshold,mode=\"lines\",name=\"umbral\"))\n",
    "    correlogram.add_trace(go.Scatter(x=delays,y=autocorrelations,mode=\"markers\",name=\"autocorrelación\"))\n",
    "    correlogram.update_layout(title_text=\"Estacionalidad\")\n",
    "    \n",
    "    if slct_var == \"volume\":\n",
    "        seasonal_periods = 100\n",
    "    else:\n",
    "        seasonal_periods = 230\n",
    "    \n",
    "    TES = ExponentialSmoothing(df[slct_var], trend=\"add\", seasonal=\"add\", seasonal_periods=seasonal_periods)\n",
    "    model = TES.fit()\n",
    "            \n",
    "    predicts = model.forecast(30)\n",
    "    \n",
    "    forecasting = go.Figure()\n",
    "    forecasting.add_trace(go.Scatter(x=df.index, y=df[slct_var], mode=\"lines\", name=\"Serie\"))\n",
    "    forecasting.add_trace(go.Scatter(x=list(predicts.index), y=predicts, mode=\"lines\", name=\"Pronóstico\"))\n",
    "    forecasting.update_layout(title_text=\"Pronóstico del siguiente mes\")\n",
    "    forecasting.update_xaxes(title_text='Período de 2018-05-07 a 2021-01-30')\n",
    "    forecasting.update_yaxes(title_text=slct_var)\n",
    "    \n",
    "\n",
    "    return lineplot, correlogram, forecasting\n",
    "\n",
    "if __name__ == \"__main__\":\n",
    "    app.run_server(debug=False)"
   ]
  }
 ],
 "metadata": {
  "kernelspec": {
   "display_name": "Python 3",
   "language": "python",
   "name": "python3"
  },
  "language_info": {
   "codemirror_mode": {
    "name": "ipython",
    "version": 3
   },
   "file_extension": ".py",
   "mimetype": "text/x-python",
   "name": "python",
   "nbconvert_exporter": "python",
   "pygments_lexer": "ipython3",
   "version": "3.12.2"
  }
 },
 "nbformat": 4,
 "nbformat_minor": 2
}
